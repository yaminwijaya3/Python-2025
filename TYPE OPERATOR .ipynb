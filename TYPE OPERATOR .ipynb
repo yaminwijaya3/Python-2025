{
 "cells": [
  {
   "cell_type": "code",
   "execution_count": 1,
   "id": "8c997337-c154-4e9b-bb2f-4aa530c7083d",
   "metadata": {},
   "outputs": [
    {
     "name": "stdout",
     "output_type": "stream",
     "text": [
      "5\n"
     ]
    }
   ],
   "source": [
    "#Module4_TYPE OPERATOR \n",
    "#Contoh program\n",
    "#Menggunakan tanda operasi?/operator sama dengan(=)\n",
    "a=5\n",
    "print(a)\n"
   ]
  },
  {
   "cell_type": "code",
   "execution_count": 2,
   "id": "ba648cf8-8b56-4e66-9a9f-6232da886804",
   "metadata": {},
   "outputs": [
    {
     "name": "stdout",
     "output_type": "stream",
     "text": [
      "13\n"
     ]
    }
   ],
   "source": [
    "#Contoh\n",
    "a=5\n",
    "a=a+8 #a baru = a lama+8\n",
    "print(a)"
   ]
  },
  {
   "cell_type": "code",
   "execution_count": 3,
   "id": "d9a5596d-8f8e-4643-8a33-e346069b7826",
   "metadata": {},
   "outputs": [
    {
     "name": "stdout",
     "output_type": "stream",
     "text": [
      "13\n"
     ]
    }
   ],
   "source": [
    "#Merubah Kode operasi penjumlahan\n",
    "#Contoh\n",
    "a=5\n",
    "a+=8 #a baru = a lama+8\n",
    "print(a)"
   ]
  },
  {
   "cell_type": "code",
   "execution_count": 4,
   "id": "6a63c86b-39fc-4f64-b19d-ce5de9a08dc7",
   "metadata": {},
   "outputs": [
    {
     "name": "stdout",
     "output_type": "stream",
     "text": [
      "30\n"
     ]
    }
   ],
   "source": [
    "#operasi Perkalian\n",
    "b=10\n",
    "b*=3\n",
    "print(b)"
   ]
  },
  {
   "cell_type": "code",
   "execution_count": 5,
   "id": "7d5a3cfa-be97-4079-ad41-c63bd810147f",
   "metadata": {},
   "outputs": [
    {
     "name": "stdout",
     "output_type": "stream",
     "text": [
      "4\n",
      "4.285714285714286\n"
     ]
    }
   ],
   "source": [
    "#operasi pembagian bilangan bulat (//=)\n",
    "b=30\n",
    "b//=7\n",
    "print(b)\n",
    "print(30/7)"
   ]
  },
  {
   "cell_type": "code",
   "execution_count": 6,
   "id": "eaadb98d-069f-4007-8311-63bd1e369215",
   "metadata": {},
   "outputs": [
    {
     "name": "stdout",
     "output_type": "stream",
     "text": [
      "4.285714285714286\n",
      "4.285714285714286\n"
     ]
    }
   ],
   "source": [
    "#operasi pembagian bilangan reiil (/=)\n",
    "b=30.0\n",
    "b/=7\n",
    "print(b)\n",
    "print(30/7)"
   ]
  },
  {
   "cell_type": "code",
   "execution_count": 7,
   "id": "f2fc8753-c41d-46b7-a7d7-88d51a626365",
   "metadata": {},
   "outputs": [
    {
     "name": "stdout",
     "output_type": "stream",
     "text": [
      "2\n"
     ]
    }
   ],
   "source": [
    "#operasi pencarian sisa bagi (%=)\n",
    "b=30\n",
    "b%=7\n",
    "print(b)"
   ]
  },
  {
   "cell_type": "code",
   "execution_count": 8,
   "id": "0ee1b7ba-79cd-474c-b5c0-9dc7f3a74207",
   "metadata": {},
   "outputs": [
    {
     "name": "stdout",
     "output_type": "stream",
     "text": [
      "x= 8\n",
      "y= 3\n"
     ]
    }
   ],
   "source": [
    "#\tOperator aritmatika \n",
    "#Mendifinisikan variabel x dan y\n",
    "x= 8\n",
    "y= 3\n",
    "#menapilkan nilai xdan Y\n",
    "print('x=',x)\n",
    "print('y=',y)"
   ]
  },
  {
   "cell_type": "code",
   "execution_count": null,
   "id": "310b107d-ad75-4792-b1ca-02f1cd7ff419",
   "metadata": {},
   "outputs": [],
   "source": []
  }
 ],
 "metadata": {
  "kernelspec": {
   "display_name": "Python [conda env:base] *",
   "language": "python",
   "name": "conda-base-py"
  },
  "language_info": {
   "codemirror_mode": {
    "name": "ipython",
    "version": 3
   },
   "file_extension": ".py",
   "mimetype": "text/x-python",
   "name": "python",
   "nbconvert_exporter": "python",
   "pygments_lexer": "ipython3",
   "version": "3.13.5"
  }
 },
 "nbformat": 4,
 "nbformat_minor": 5
}
