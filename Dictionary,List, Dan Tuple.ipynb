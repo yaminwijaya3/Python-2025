{
 "cells": [
  {
   "cell_type": "code",
   "execution_count": 5,
   "id": "3de75d15-1835-49c1-9d14-db64d5ee0660",
   "metadata": {},
   "outputs": [
    {
     "name": "stdout",
     "output_type": "stream",
     "text": [
      "dic['Dosen']: Eko\n",
      "dic['Prodi'] : Mekatronika\n",
      "dic['Kuliah']: Phython\n"
     ]
    }
   ],
   "source": [
    "#Cpontoh program dictionary\n",
    "dic= {'Dosen': 'Eko', 'Prodi' : 'Mekatronika', 'Kuliah' :'Phython'} #dibuat variabel \n",
    "#menampilkan dictionary\n",
    "print(\"dic['Dosen']:\", dic['Dosen'])\n",
    "print(\"dic['Prodi'] :\", dic['Prodi'])\n",
    "print(\"dic['Kuliah']:\", dic['Kuliah'])"
   ]
  },
  {
   "cell_type": "code",
   "execution_count": 6,
   "id": "b6a6344c-b4ae-44f5-a1fb-a8600dfc1aff",
   "metadata": {},
   "outputs": [
    {
     "name": "stdout",
     "output_type": "stream",
     "text": [
      "dic['Dosen']: Eko\n",
      "dic['Prodi'] : Mekatronika\n",
      "dic['Kuliah']: Phython\n"
     ]
    }
   ],
   "source": [
    "dic= {'Dosen': 'Eko', 'Prodi' : 'Mekatronika', 'Kuliah' :'Phython'} #dibuat variabel \n",
    "#menampilkan dictionary\n",
    "print(\"dic['Dosen']:\", dic['Dosen'])\n",
    "print(\"dic['Prodi'] :\", dic['Prodi'])\n",
    "print(\"dic['Kuliah']:\", dic['Kuliah'])"
   ]
  },
  {
   "cell_type": "code",
   "execution_count": 7,
   "id": "ae2064c8-ce41-45b2-8405-ac5bc5b94679",
   "metadata": {},
   "outputs": [
    {
     "name": "stdout",
     "output_type": "stream",
     "text": [
      "satu: 5\n",
      "dua: 10\n"
     ]
    }
   ],
   "source": [
    "#Variabel dictionary\n",
    "dic={'satu':5, 'dua':10}\n",
    "#Menampilkan Dictionary:\n",
    "print(\"satu:\", dic['satu'])\n",
    "print(\"dua:\", dic['dua'])"
   ]
  },
  {
   "cell_type": "code",
   "execution_count": null,
   "id": "d86dff0e-03b8-4f17-90cc-a318618a2a1a",
   "metadata": {},
   "outputs": [],
   "source": [
    "#Variabel dictionary dic"
   ]
  }
 ],
 "metadata": {
  "kernelspec": {
   "display_name": "Python [conda env:base] *",
   "language": "python",
   "name": "conda-base-py"
  },
  "language_info": {
   "codemirror_mode": {
    "name": "ipython",
    "version": 3
   },
   "file_extension": ".py",
   "mimetype": "text/x-python",
   "name": "python",
   "nbconvert_exporter": "python",
   "pygments_lexer": "ipython3",
   "version": "3.13.5"
  }
 },
 "nbformat": 4,
 "nbformat_minor": 5
}
