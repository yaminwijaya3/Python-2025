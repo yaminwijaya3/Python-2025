{
 "cells": [
  {
   "cell_type": "code",
   "execution_count": 1,
   "id": "5f720f3a-6653-49d6-87d3-5e209ca0aec9",
   "metadata": {},
   "outputs": [
    {
     "name": "stdout",
     "output_type": "stream",
     "text": [
      "2.0\n",
      "6.283185307179586\n",
      "1.0\n"
     ]
    }
   ],
   "source": [
    "# Modul math\n",
    "import math\n",
    "a = 4\n",
    "b = 2\n",
    "c = 0\n",
    "print(math.sqrt(a)) #akar variabel a = 4\n",
    "print(math.pi*(b)) #perkalian variabel b = 2 dengan pi = 3.14\n",
    "print(math.cos(c)) #cosinus variabel c = 0"
   ]
  },
  {
   "cell_type": "code",
   "execution_count": 2,
   "id": "29693b60-bc64-435b-9c12-9b6a5280777e",
   "metadata": {},
   "outputs": [
    {
     "name": "stdout",
     "output_type": "stream",
     "text": [
      "(1.600485180440241+1.2496210676876531j)\n",
      "(22.979085577886128+14.744805188558727j)\n"
     ]
    }
   ],
   "source": [
    "# Modul cmath\n",
    "import cmath\n",
    "z = 1 + 4j\n",
    "print(cmath.sqrt(z)) #akar variabel z\n",
    "print(cmath.sin(z)) #sinus variabel z"
   ]
  },
  {
   "cell_type": "code",
   "execution_count": 3,
   "id": "0c9ac48c-87cd-4f1b-9736-86209f5a0d17",
   "metadata": {},
   "outputs": [
    {
     "name": "stdout",
     "output_type": "stream",
     "text": [
      "<class 'bool'>\n",
      "<class 'bool'>\n"
     ]
    }
   ],
   "source": [
    "# type Boolean (bool)\n",
    "t = True\n",
    "f = False\n",
    "\n",
    "print(type(t))\n",
    "print(type(f))"
   ]
  },
  {
   "cell_type": "code",
   "execution_count": 4,
   "id": "59716aa5-cf79-4fd3-b579-ea7d0de5eaff",
   "metadata": {},
   "outputs": [
    {
     "name": "stdout",
     "output_type": "stream",
     "text": [
      "False\n",
      "True\n",
      "False\n",
      "True\n",
      "True\n",
      "False\n"
     ]
    }
   ],
   "source": [
    "# Operasi Type Boolean\n",
    "t = True\n",
    "f = False\n",
    "\n",
    "print(t and f)\n",
    "print(t and t)\n",
    "print(f and f)\n",
    "print(t or f)\n",
    "print(t or t)\n",
    "print(f or f)"
   ]
  },
  {
   "cell_type": "code",
   "execution_count": null,
   "id": "8ec4070d-8b0a-4d51-8ec6-5d0e5b4b30d4",
   "metadata": {},
   "outputs": [],
   "source": []
  }
 ],
 "metadata": {
  "kernelspec": {
   "display_name": "Python [conda env:base] *",
   "language": "python",
   "name": "conda-base-py"
  },
  "language_info": {
   "codemirror_mode": {
    "name": "ipython",
    "version": 3
   },
   "file_extension": ".py",
   "mimetype": "text/x-python",
   "name": "python",
   "nbconvert_exporter": "python",
   "pygments_lexer": "ipython3",
   "version": "3.13.5"
  }
 },
 "nbformat": 4,
 "nbformat_minor": 5
}
