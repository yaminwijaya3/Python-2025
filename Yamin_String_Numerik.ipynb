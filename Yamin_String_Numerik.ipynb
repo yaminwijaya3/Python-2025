{
 "cells": [
  {
   "cell_type": "code",
   "execution_count": 1,
   "id": "00eb8564-4d77-4734-88bd-c4c12fed594f",
   "metadata": {},
   "outputs": [
    {
     "name": "stdout",
     "output_type": "stream",
     "text": [
      "Hallo Takumi\n",
      "Hallo Takumi\n"
     ]
    }
   ],
   "source": [
    "#type String\n",
    "print('Hallo Takumi')\n",
    "print(\"Hallo Takumi\")\n"
   ]
  },
  {
   "cell_type": "code",
   "execution_count": 2,
   "id": "8c2fd447-a5b6-4ea3-af3a-b7e779eb6d3d",
   "metadata": {},
   "outputs": [
    {
     "name": "stdout",
     "output_type": "stream",
     "text": [
      "Halo\n",
      "Takumi\n",
      "HaloTakumi\n"
     ]
    }
   ],
   "source": [
    "#Variabel Type String\n",
    "s1 = 'Halo'\n",
    "s2= 'Takumi'\n",
    "#menampilkan type string\n",
    "print(s1)\n",
    "print(s2)\n",
    "print(s1+''+s2)"
   ]
  },
  {
   "cell_type": "code",
   "execution_count": 5,
   "id": "7a87a9ff-409e-4b2e-b6f8-a39f462e8ea7",
   "metadata": {},
   "outputs": [
    {
     "name": "stdout",
     "output_type": "stream",
     "text": [
      "False\n",
      "False\n",
      "True\n",
      "True\n",
      "True\n"
     ]
    }
   ],
   "source": [
    "#Membandingkn string \n",
    "s1= 'Halo'\n",
    "s2= 'Takumi'\n",
    "\n",
    "print(s1>s2)\n",
    "print(s1>=s2)\n",
    "print(s1<s2)\n",
    "print(s1<=s2)\n",
    "print(s1 !=s2)"
   ]
  },
  {
   "cell_type": "code",
   "execution_count": 9,
   "id": "4c9461be-c416-4325-b739-f1e1567b19c7",
   "metadata": {},
   "outputs": [
    {
     "name": "stdout",
     "output_type": "stream",
     "text": [
      "T\n",
      "k\n",
      "Ta\n",
      "Taku\n",
      "umi\n",
      "mi\n",
      "Tak\n",
      "Takumioke\n",
      "TakumiTakumi\n"
     ]
    }
   ],
   "source": [
    "#Mengambil Subtring; Mengunakantanda bracket[]\n",
    "s='Takumi'\n",
    "print(s[0])\n",
    "print(s[-4])\n",
    "print(s[:2])\n",
    "print(s[:-2])\n",
    "print(s[3:])\n",
    "print(s[-2:])\n",
    "print(s[0:3])\n",
    "len(s)\n",
    "print(s +''+'oke')\n",
    "print(s*2)"
   ]
  },
  {
   "cell_type": "code",
   "execution_count": 11,
   "id": "b373a3f5-7339-49c9-af8f-cea3a6a922ad",
   "metadata": {},
   "outputs": [
    {
     "data": {
      "text/plain": [
       "'TAkumi'"
      ]
     },
     "execution_count": 11,
     "metadata": {},
     "output_type": "execute_result"
    }
   ],
   "source": [
    "#menemukan Offset Subtrasing\n",
    "s='Takumi'\n",
    "s.replace('aku', 'Aku')"
   ]
  },
  {
   "cell_type": "code",
   "execution_count": 12,
   "id": "8c715e87-584a-4792-b6a7-5e558f3ceca0",
   "metadata": {},
   "outputs": [
    {
     "data": {
      "text/plain": [
       "'TAKUMI'"
      ]
     },
     "execution_count": 12,
     "metadata": {},
     "output_type": "execute_result"
    }
   ],
   "source": [
    "#Mengkonfersi huruf besar dan kecil\n",
    "s='Takumi'\n",
    "s.upper()"
   ]
  },
  {
   "cell_type": "code",
   "execution_count": 13,
   "id": "dec52249-e106-43e2-b49a-2df1efed23c2",
   "metadata": {},
   "outputs": [
    {
     "name": "stdout",
     "output_type": "stream",
     "text": [
      "<class 'int'>\n",
      "<class 'int'>\n",
      "<class 'int'>\n"
     ]
    }
   ],
   "source": [
    "#Type Numerik\n",
    "a=1\n",
    "b=-17\n",
    "c=100\n",
    "print(type(a))\n",
    "print(type(b))\n",
    "print(type(c))"
   ]
  },
  {
   "cell_type": "code",
   "execution_count": 15,
   "id": "0e03168d-75cf-4822-baca-8b1e44e7d709",
   "metadata": {},
   "outputs": [
    {
     "name": "stdout",
     "output_type": "stream",
     "text": [
      "<class 'float'>\n",
      "<class 'float'>\n",
      "<class 'float'>\n"
     ]
    }
   ],
   "source": [
    "#Type Floatx=3.14\n",
    "x=3.14\n",
    "y=-0.175\n",
    "z=2.05\n",
    "print(type (x))\n",
    "print(type (y))\n",
    "print(type (z))"
   ]
  },
  {
   "cell_type": "code",
   "execution_count": 16,
   "id": "5e20d015-8e1b-4171-bd9f-ace8658f7e43",
   "metadata": {},
   "outputs": [
    {
     "name": "stdout",
     "output_type": "stream",
     "text": [
      "<class 'complex'>\n",
      "<class 'float'>\n",
      "3.0\n",
      "2.0\n"
     ]
    }
   ],
   "source": [
    "#Type Complex\n",
    "s1=3+2j\n",
    "s2=-2.5\n",
    "print(type (s1))\n",
    "print(type (s2))\n",
    "print(s1.real)\n",
    "print(s1.imag)"
   ]
  },
  {
   "cell_type": "code",
   "execution_count": 17,
   "id": "27af8582-299a-43be-9253-07ed094a71dd",
   "metadata": {},
   "outputs": [
    {
     "name": "stdout",
     "output_type": "stream",
     "text": [
      "3\n",
      "-17.0\n",
      "(-0.175+0j)\n"
     ]
    }
   ],
   "source": [
    "#Konversi tipe Data Numerik\n",
    "#Konversi ke Integer\n",
    "x=int(3.14)\n",
    "print(x)\n",
    "\n",
    "#Konversike Float\n",
    "b=float(-17)\n",
    "print(b)\n",
    "\n",
    "#Konversi ke complex\n",
    "y=complex(-0.175)\n",
    "print(y)"
   ]
  },
  {
   "cell_type": "code",
   "execution_count": 19,
   "id": "6eb577c9-d201-40d6-ac3f-af511c3cf23d",
   "metadata": {},
   "outputs": [
    {
     "name": "stdout",
     "output_type": "stream",
     "text": [
      "21\n",
      "9\n",
      "90\n",
      "2.5\n",
      "2\n",
      "3\n",
      "11390625\n"
     ]
    }
   ],
   "source": [
    "#Operasi Aritmatika\n",
    "a=15\n",
    "b=6\n",
    "print(a+b)\n",
    "print(a-b)\n",
    "print(a*b)\n",
    "print(a/b)\n",
    "print(a//b)\n",
    "print(a%b)\n",
    "print(a**b)"
   ]
  },
  {
   "cell_type": "code",
   "execution_count": null,
   "id": "61046656-aff8-4056-bc66-c9d2d6a59d5e",
   "metadata": {},
   "outputs": [],
   "source": [
    "#Modul Math\n"
   ]
  }
 ],
 "metadata": {
  "kernelspec": {
   "display_name": "Python [conda env:base] *",
   "language": "python",
   "name": "conda-base-py"
  },
  "language_info": {
   "codemirror_mode": {
    "name": "ipython",
    "version": 3
   },
   "file_extension": ".py",
   "mimetype": "text/x-python",
   "name": "python",
   "nbconvert_exporter": "python",
   "pygments_lexer": "ipython3",
   "version": "3.13.5"
  }
 },
 "nbformat": 4,
 "nbformat_minor": 5
}
